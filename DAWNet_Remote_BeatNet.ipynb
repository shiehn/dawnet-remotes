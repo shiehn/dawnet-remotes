{
  "nbformat": 4,
  "nbformat_minor": 0,
  "metadata": {
    "colab": {
      "provenance": [],
      "authorship_tag": "ABX9TyOMx1JudC87kGzoEMXhtCOf",
      "include_colab_link": true
    },
    "kernelspec": {
      "name": "python3",
      "display_name": "Python 3"
    },
    "language_info": {
      "name": "python"
    }
  },
  "cells": [
    {
      "cell_type": "markdown",
      "metadata": {
        "id": "view-in-github",
        "colab_type": "text"
      },
      "source": [
        "<a href=\"https://colab.research.google.com/github/shiehn/dawnet-remotes/blob/main/DAWNet_Remote_BeatNet.ipynb\" target=\"_parent\"><img src=\"https://colab.research.google.com/assets/colab-badge.svg\" alt=\"Open In Colab\"/></a>"
      ]
    },
    {
      "cell_type": "markdown",
      "source": [
        "INSTALL DEPENDENCIES"
      ],
      "metadata": {
        "id": "4Vd2kpyO-uWV"
      }
    },
    {
      "cell_type": "code",
      "source": [
        "#Check if librosa is installed, if not then install it\n",
        "try:\n",
        "    import librosa\n",
        "except Exception:\n",
        "    !pip install librosa\n",
        "    import librosa\n",
        "\n",
        "#Check if madmom is installed, if not then install it\n",
        "try:\n",
        "    import madmom\n",
        "except Exception:\n",
        "    !pip install --upgrade --no-deps --force-reinstall --quiet 'git+https://github.com/CPJKU/madmom.git'\n",
        "    import madmom\n",
        "\n",
        "#Check if pyaudio is installed, if not then install it\n",
        "try:\n",
        "    import pyaudio\n",
        "except Exception:\n",
        "    !apt-get install portaudio19-dev\n",
        "    !pip install pyaudio\n",
        "    import pyaudio\n",
        "\n",
        "#Check if BeatNet is installed, if not then install it\n",
        "try:\n",
        "    from BeatNet.BeatNet import BeatNet\n",
        "except Exception:\n",
        "    !pip install BeatNet\n",
        "    from BeatNet.BeatNet import BeatNet\n"
      ],
      "metadata": {
        "id": "L0taFmxg-t8l",
        "outputId": "138ebf42-4d57-4dba-bf5d-e22470b8b02f",
        "colab": {
          "base_uri": "https://localhost:8080/"
        }
      },
      "execution_count": 5,
      "outputs": [
        {
          "output_type": "stream",
          "name": "stdout",
          "text": [
            "Reading package lists... Done\n",
            "Building dependency tree... Done\n",
            "Reading state information... Done\n",
            "The following additional packages will be installed:\n",
            "  libportaudio2 libportaudiocpp0\n",
            "Suggested packages:\n",
            "  portaudio19-doc\n",
            "The following NEW packages will be installed:\n",
            "  libportaudio2 libportaudiocpp0 portaudio19-dev\n",
            "0 upgraded, 3 newly installed, 0 to remove and 30 not upgraded.\n",
            "Need to get 188 kB of archives.\n",
            "After this operation, 927 kB of additional disk space will be used.\n",
            "Get:1 http://archive.ubuntu.com/ubuntu jammy/universe amd64 libportaudio2 amd64 19.6.0-1.1 [65.3 kB]\n",
            "Get:2 http://archive.ubuntu.com/ubuntu jammy/universe amd64 libportaudiocpp0 amd64 19.6.0-1.1 [16.1 kB]\n",
            "Get:3 http://archive.ubuntu.com/ubuntu jammy/universe amd64 portaudio19-dev amd64 19.6.0-1.1 [106 kB]\n",
            "Fetched 188 kB in 1s (282 kB/s)\n",
            "Selecting previously unselected package libportaudio2:amd64.\n",
            "(Reading database ... 121658 files and directories currently installed.)\n",
            "Preparing to unpack .../libportaudio2_19.6.0-1.1_amd64.deb ...\n",
            "Unpacking libportaudio2:amd64 (19.6.0-1.1) ...\n",
            "Selecting previously unselected package libportaudiocpp0:amd64.\n",
            "Preparing to unpack .../libportaudiocpp0_19.6.0-1.1_amd64.deb ...\n",
            "Unpacking libportaudiocpp0:amd64 (19.6.0-1.1) ...\n",
            "Selecting previously unselected package portaudio19-dev:amd64.\n",
            "Preparing to unpack .../portaudio19-dev_19.6.0-1.1_amd64.deb ...\n",
            "Unpacking portaudio19-dev:amd64 (19.6.0-1.1) ...\n",
            "Setting up libportaudio2:amd64 (19.6.0-1.1) ...\n",
            "Setting up libportaudiocpp0:amd64 (19.6.0-1.1) ...\n",
            "Setting up portaudio19-dev:amd64 (19.6.0-1.1) ...\n",
            "Processing triggers for libc-bin (2.35-0ubuntu3.4) ...\n",
            "/sbin/ldconfig.real: /usr/local/lib/libtbbmalloc_proxy.so.2 is not a symbolic link\n",
            "\n",
            "/sbin/ldconfig.real: /usr/local/lib/libtbbbind_2_0.so.3 is not a symbolic link\n",
            "\n",
            "/sbin/ldconfig.real: /usr/local/lib/libtbbbind.so.3 is not a symbolic link\n",
            "\n",
            "/sbin/ldconfig.real: /usr/local/lib/libtbbbind_2_5.so.3 is not a symbolic link\n",
            "\n",
            "/sbin/ldconfig.real: /usr/local/lib/libtbbmalloc.so.2 is not a symbolic link\n",
            "\n",
            "/sbin/ldconfig.real: /usr/local/lib/libtbb.so.12 is not a symbolic link\n",
            "\n",
            "Collecting pyaudio\n",
            "  Using cached PyAudio-0.2.14.tar.gz (47 kB)\n",
            "  Installing build dependencies ... \u001b[?25l\u001b[?25hdone\n",
            "  Getting requirements to build wheel ... \u001b[?25l\u001b[?25hdone\n",
            "  Preparing metadata (pyproject.toml) ... \u001b[?25l\u001b[?25hdone\n",
            "Building wheels for collected packages: pyaudio\n",
            "  Building wheel for pyaudio (pyproject.toml) ... \u001b[?25l\u001b[?25hdone\n",
            "  Created wheel for pyaudio: filename=PyAudio-0.2.14-cp310-cp310-linux_x86_64.whl size=63862 sha256=87afcd31695b31c5351abf7078ce5170913af76219b1640b02e8432b04c87c27\n",
            "  Stored in directory: /root/.cache/pip/wheels/d6/21/f4/0b51d41ba79e51b16295cbb096ec49f334792814d545b508c5\n",
            "Successfully built pyaudio\n",
            "Installing collected packages: pyaudio\n",
            "Successfully installed pyaudio-0.2.14\n"
          ]
        }
      ]
    },
    {
      "cell_type": "markdown",
      "source": [],
      "metadata": {
        "id": "DqdEGIs1-s-q"
      }
    },
    {
      "cell_type": "code",
      "execution_count": 16,
      "metadata": {
        "id": "ziNFYTOh-k7i",
        "outputId": "5603ad0f-7aa6-433c-94e5-533e13e0bea0",
        "colab": {
          "base_uri": "https://localhost:8080/",
          "height": 367
        }
      },
      "outputs": [
        {
          "output_type": "error",
          "ename": "IndexError",
          "evalue": "too many indices for array: array is 1-dimensional, but 2 were indexed",
          "traceback": [
            "\u001b[0;31m---------------------------------------------------------------------------\u001b[0m",
            "\u001b[0;31mIndexError\u001b[0m                                Traceback (most recent call last)",
            "\u001b[0;32m<ipython-input-16-422887c562e8>\u001b[0m in \u001b[0;36m<cell line: 58>\u001b[0;34m()\u001b[0m\n\u001b[1;32m     56\u001b[0m \u001b[0;31m# Example usage\u001b[0m\u001b[0;34m\u001b[0m\u001b[0;34m\u001b[0m\u001b[0m\n\u001b[1;32m     57\u001b[0m \u001b[0moutput\u001b[0m \u001b[0;34m=\u001b[0m \u001b[0mnp\u001b[0m\u001b[0;34m.\u001b[0m\u001b[0marray\u001b[0m\u001b[0;34m(\u001b[0m\u001b[0;34m[\u001b[0m\u001b[0;34m...\u001b[0m\u001b[0;34m]\u001b[0m\u001b[0;34m)\u001b[0m  \u001b[0;31m# Replace with your BeatNet output\u001b[0m\u001b[0;34m\u001b[0m\u001b[0;34m\u001b[0m\u001b[0m\n\u001b[0;32m---> 58\u001b[0;31m \u001b[0maverage_bpm\u001b[0m \u001b[0;34m=\u001b[0m \u001b[0mcalculate_average_bpm\u001b[0m\u001b[0;34m(\u001b[0m\u001b[0moutput\u001b[0m\u001b[0;34m)\u001b[0m\u001b[0;34m\u001b[0m\u001b[0;34m\u001b[0m\u001b[0m\n\u001b[0m\u001b[1;32m     59\u001b[0m \u001b[0mprint\u001b[0m\u001b[0;34m(\u001b[0m\u001b[0;34m\"Average BPM:\"\u001b[0m\u001b[0;34m,\u001b[0m \u001b[0maverage_bpm\u001b[0m\u001b[0;34m)\u001b[0m\u001b[0;34m\u001b[0m\u001b[0;34m\u001b[0m\u001b[0m\n\u001b[1;32m     60\u001b[0m \u001b[0;34m\u001b[0m\u001b[0m\n",
            "\u001b[0;32m<ipython-input-16-422887c562e8>\u001b[0m in \u001b[0;36mcalculate_average_bpm\u001b[0;34m(output)\u001b[0m\n\u001b[1;32m     40\u001b[0m     \"\"\"\n\u001b[1;32m     41\u001b[0m     \u001b[0;31m# Filter to get the first beat of each bar (assuming it's marked as 1)\u001b[0m\u001b[0;34m\u001b[0m\u001b[0;34m\u001b[0m\u001b[0m\n\u001b[0;32m---> 42\u001b[0;31m     \u001b[0mfirst_beats\u001b[0m \u001b[0;34m=\u001b[0m \u001b[0moutput\u001b[0m\u001b[0;34m[\u001b[0m\u001b[0moutput\u001b[0m\u001b[0;34m[\u001b[0m\u001b[0;34m:\u001b[0m\u001b[0;34m,\u001b[0m \u001b[0;36m1\u001b[0m\u001b[0;34m]\u001b[0m \u001b[0;34m==\u001b[0m \u001b[0;36m1\u001b[0m\u001b[0;34m]\u001b[0m\u001b[0;34m\u001b[0m\u001b[0;34m\u001b[0m\u001b[0m\n\u001b[0m\u001b[1;32m     43\u001b[0m \u001b[0;34m\u001b[0m\u001b[0m\n\u001b[1;32m     44\u001b[0m     \u001b[0;31m# Calculate time differences between successive first beats\u001b[0m\u001b[0;34m\u001b[0m\u001b[0;34m\u001b[0m\u001b[0m\n",
            "\u001b[0;31mIndexError\u001b[0m: too many indices for array: array is 1-dimensional, but 2 were indexed"
          ]
        }
      ],
      "source": [
        "# Check if ffmpeg is installed, if not then install it\n",
        "ffmpeg_installed = !command -v ffmpeg\n",
        "if not ffmpeg_installed:\n",
        "    !apt-get install ffmpeg\n",
        "\n",
        "#Check if dawnet-client is installed, if not then install it\n",
        "try:\n",
        "    import dawnet_client\n",
        "except ImportError:\n",
        "    !pip install dawnet-client\n",
        "    import dawnet_client\n",
        "\n",
        "try:\n",
        "    import dawnet_client\n",
        "except ImportError:\n",
        "  !pip install dawnet-client --upgrade\n",
        "\n",
        "\n",
        "import dawnet_client.core as dawnet\n",
        "from dawnet_client import DAWNetFilePath\n",
        "import os\n",
        "import shutil\n",
        "import uuid\n",
        "import numpy as np\n",
        "\n",
        "placeholder_txt = \"Enter the token generated by the DAWNet plugin\"\n",
        "DAWNET_TOKEN = \"24a3a56f-f1c3-4a07-b68f-2cdacb8a61d8\" #@param {type:\"string\"}\n",
        "dawnet_token = DAWNET_TOKEN\n",
        "\n",
        "if dawnet_token is None or dawnet_token == \"\" or dawnet_token == placeholder_txt:\n",
        "  print(\"ERROR: The token provided is not valid.\")\n",
        "  exit()\n",
        "\n",
        "def calculate_average_bpm(output):\n",
        "    \"\"\"\n",
        "    Calculate the average BPM from BeatNet output.\n",
        "\n",
        "    :param output: numpy array of shape (n, 2) where each row is [time, beat_position]\n",
        "    :return: Average BPM as a float\n",
        "    \"\"\"\n",
        "    # Filter to get the first beat of each bar (assuming it's marked as 1)\n",
        "    first_beats = output[output[:, 1] == 1]\n",
        "\n",
        "    # Calculate time differences between successive first beats\n",
        "    time_differences = np.diff(first_beats[:, 0])\n",
        "\n",
        "    # Calculate average time difference\n",
        "    if len(time_differences) == 0:\n",
        "        return 0  # Avoid division by zero if there are no beats detected\n",
        "    average_time_diff = np.mean(time_differences)\n",
        "\n",
        "    # Convert average time difference to BPM\n",
        "    bpm = 60 / average_time_diff\n",
        "    return bpm\n",
        "\n",
        "# Example usage\n",
        "output = np.array([...])  # Replace with your BeatNet output\n",
        "average_bpm = calculate_average_bpm(output)\n",
        "print(\"Average BPM:\", average_bpm)\n",
        "\n",
        "async def dawnet_func(input_file: DAWNetFilePath):\n",
        "    try:\n",
        "      # Generate a unique directory name\n",
        "      unique_dir_name = f\"/tmp/{uuid.uuid4()}\"\n",
        "      os.makedirs(unique_dir_name, exist_ok=True)\n",
        "\n",
        "      # Copy the input file to the new directory\n",
        "      new_file_path = os.path.join(unique_dir_name, os.path.basename(input_file))\n",
        "      shutil.copy(input_file, new_file_path)\n",
        "\n",
        "      # Initialize the estimator\n",
        "      estimator = BeatNet(1, mode='offline', inference_model='DBN', plot=[], thread=False)\n",
        "\n",
        "      # Use the new directory in estimator.process\n",
        "      Output = estimator.process(new_file_path)\n",
        "\n",
        "      # Convert to a numpy array\n",
        "      output_array = np.array(Output)\n",
        "\n",
        "      bpm = calculate_average_bpm(output_array)\n",
        "\n",
        "      # after executing your custom code you send data back to the plugin like so ..\n",
        "      await dawnet.output().add_file(input_file)\n",
        "      await dawnet.output().add_log(f\"BPM is: {bpm}\")\n",
        "      await dawnet.output().add_message(f\"BPM is: {bpm}\")\n",
        "      await dawnet.output().send()\n",
        "\n",
        "      return True\n",
        "    except Exception as e:\n",
        "      await dawnet.output().add_error(f\"Error in arbitrary_method: {e}\")\n",
        "\n",
        "      return False\n",
        "\n",
        "\n",
        "dawnet.set_token(token=dawnet_token)\n",
        "dawnet.set_name(\"DAWNet Template\")\n",
        "dawnet.set_description(\"This is a template for creating a DAWNet Remote\")\n",
        "dawnet.register_method(dawnet_func)\n",
        "\n",
        "dawnet.connect_to_server()"
      ]
    }
  ]
}