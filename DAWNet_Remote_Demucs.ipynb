{
  "nbformat": 4,
  "nbformat_minor": 0,
  "metadata": {
    "colab": {
      "provenance": [],
      "authorship_tag": "ABX9TyOEUH3AUBD8uHfa9p+YY/Sh",
      "include_colab_link": true
    },
    "kernelspec": {
      "name": "python3",
      "display_name": "Python 3"
    },
    "language_info": {
      "name": "python"
    }
  },
  "cells": [
    {
      "cell_type": "markdown",
      "metadata": {
        "id": "view-in-github",
        "colab_type": "text"
      },
      "source": [
        "<a href=\"https://colab.research.google.com/github/shiehn/dawnet-remotes/blob/main/DAWNet_Remote_Demucs.ipynb\" target=\"_parent\"><img src=\"https://colab.research.google.com/assets/colab-badge.svg\" alt=\"Open In Colab\"/></a>"
      ]
    },
    {
      "cell_type": "code",
      "execution_count": null,
      "metadata": {
        "id": "ENTHkBySdlmn"
      },
      "outputs": [],
      "source": [
        "!pip install dawnet-client\n",
        "!pip install -U demucs"
      ]
    },
    {
      "cell_type": "code",
      "source": [
        "DAWNET_TOKEN = ''\n",
        "\n",
        "async def dawnet_func(input_file: DAWNetFilePath):\n",
        "    try:\n",
        "\n",
        "        print(f\"Input A: {a}\")\n",
        "        print(f\"Input B: {b}\")\n",
        "        # print(f\"Input C: {c}\")\n",
        "        # print(f\"Input D: {d}\")\n",
        "\n",
        "        # DO INFERENCE SHIT HERE\n",
        "\n",
        "        await dawnet_client.results().add_file(b, \"wav\")\n",
        "        # await dawnet_client.results().add_file(c, \"wav\")\n",
        "        await dawnet_client.results().add_message(\"This is a message XYZ\")\n",
        "        await dawnet_client.results().send()\n",
        "\n",
        "        return True\n",
        "    except Exception as e:\n",
        "        print(f\"Error in arbitrary_method: {e}\")\n",
        "        return f\"Method encountered an error: {e}\"\n",
        "\n",
        "\n",
        "dawnet_client.set_token(token=DAWNET_TOKEN)\n",
        "dawnet_client.set_name(\"DEMUCS\")\n",
        "dawnet_client.set_description(\"This is a DAWNet wrapper on the DEMUCS stem splitting model\")\n",
        "dawnet_client.register_method(\"dawnet_func\", dawnet_func)\n",
        "\n",
        "dawnet_client.connect_to_server()"
      ],
      "metadata": {
        "id": "5Do8qE7fniqS"
      },
      "execution_count": null,
      "outputs": []
    }
  ]
}